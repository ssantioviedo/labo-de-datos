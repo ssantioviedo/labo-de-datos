{
 "cells": [
  {
   "cell_type": "code",
   "execution_count": 1,
   "metadata": {},
   "outputs": [],
   "source": [
    "import matplotlib.pyplot as plt\n",
    "import seaborn as sns\n",
    "import numpy as np\n",
    "import pandas as pd"
   ]
  },
  {
   "cell_type": "markdown",
   "metadata": {},
   "source": [
    "# Práctica 1 Python y Numpy"
   ]
  },
  {
   "cell_type": "code",
   "execution_count": 3,
   "metadata": {},
   "outputs": [
    {
     "data": {
      "text/plain": [
       "1"
      ]
     },
     "execution_count": 3,
     "metadata": {},
     "output_type": "execute_result"
    }
   ],
   "source": [
    "4 % 3 # Es 4 mod 3, es decir el resto de la división entera."
   ]
  },
  {
   "cell_type": "code",
   "execution_count": 5,
   "metadata": {},
   "outputs": [
    {
     "name": "stdout",
     "output_type": "stream",
     "text": [
      "v           == [1.   2.   2.72 7.  ]\n",
      "w           == [1.2  3.14 4.   5.  ]\n",
      "v + w       == [ 2.2   5.14  6.72 12.  ]\n",
      "v ** 2      == [ 1.    4.    7.39 49.  ]\n",
      "v % 2       == [1.   0.   0.72 1.  ]\n",
      "np.sum(v)   == 12.718281828459045\n",
      "np.sqrt(w)  == [1.1  1.77 2.   2.24]\n",
      "v > 3       == [False False False  True]\n",
      "w < 3.5     == [ True  True False False]\n"
     ]
    }
   ],
   "source": [
    "np.set_printoptions(precision=2, suppress=True)\n",
    "v = np.array ([1,2,np.e,7])\n",
    "w = np.array ([1.2 , np.pi, 4, 5])\n",
    "for expr in [\"v\", \"w\", \"v + w\", \"v ** 2\", \"v % 2\", \"np.sum(v)\", \"np.sqrt(w)\", \"v > 3\", \"w < 3.5\"]:\n",
    "    print(f\"{expr :11s} == {eval(expr)}\") # f inicializa una f-string, luego se pone {} para indicar donde va la variable.\n",
    "                                          # :11 indica la cantidad de caracteres que va a ocupar este string, si son menos se llena con espacios.\n",
    "                                          # s es para indicar que quiero un string v y no su valor o algo diferente.\n",
    "                                          # eval es para indicar que quiero el valor de la variable, y no su formato string."
   ]
  },
  {
   "cell_type": "code",
   "execution_count": 10,
   "metadata": {},
   "outputs": [
    {
     "data": {
      "text/plain": [
       "array([ True,  True,  True, False])"
      ]
     },
     "execution_count": 10,
     "metadata": {},
     "output_type": "execute_result"
    }
   ],
   "source": [
    "~(v > 3) # \"alt gr\" + \"+\" del teclado NO númerico"
   ]
  },
  {
   "cell_type": "code",
   "execution_count": 21,
   "metadata": {},
   "outputs": [
    {
     "data": {
      "text/plain": [
       "array([ 1.2 ,  6.28, 10.87, 35.  ])"
      ]
     },
     "execution_count": 21,
     "metadata": {},
     "output_type": "execute_result"
    }
   ],
   "source": [
    "v = np.array ([1 , 2, np.e, 7])\n",
    "w = np.array ([1.2 , np.pi, 4, 5])\n",
    "z = np.array ([0 ,1])\n",
    "v * w # Multiplicación coord a coord, sin importar shapes\n",
    "#v+2 # Coord a coord\n",
    "#v+z # Funcionara? Rta: No lo hace, no dan las shapes"
   ]
  },
  {
   "cell_type": "code",
   "execution_count": 28,
   "metadata": {},
   "outputs": [
    {
     "data": {
      "text/plain": [
       "array([1.  , 2.  , 2.72])"
      ]
     },
     "metadata": {},
     "output_type": "display_data"
    },
    {
     "data": {
      "text/plain": [
       "array([1.])"
      ]
     },
     "metadata": {},
     "output_type": "display_data"
    }
   ],
   "source": [
    "v = np.array ([1, 2, np.e, 7, 5])\n",
    "# display(v[0], v[1], v[-1], v[-2]) # Funcionara ‘v[-2]‘? Rta: Si\n",
    "# v[[0, 3]] # Desde el elem 0 hasta el 3 sin incluir\n",
    "display(v[0:3] , v[0:1]) # Idem anterior"
   ]
  },
  {
   "cell_type": "code",
   "execution_count": 37,
   "metadata": {},
   "outputs": [
    {
     "data": {
      "text/plain": [
       "1.4142135623730951"
      ]
     },
     "metadata": {},
     "output_type": "display_data"
    },
    {
     "data": {
      "text/plain": [
       "2.0"
      ]
     },
     "execution_count": 37,
     "metadata": {},
     "output_type": "execute_result"
    }
   ],
   "source": [
    "a = np.sqrt (2)\n",
    "display(a)\n",
    "#np.round(a) # Redondea a enteros\n",
    "#np.round(a, 2) # Redondea a enteros, y dos decimales\n",
    "#np.info(np.round)\n",
    "#np.info(np.ceil) # Ceil = techo, da la parte entera superior\n",
    "np.ceil(a)"
   ]
  },
  {
   "cell_type": "code",
   "execution_count": 38,
   "metadata": {},
   "outputs": [
    {
     "data": {
      "text/plain": [
       "array([1., 2., 2., 1.])"
      ]
     },
     "execution_count": 38,
     "metadata": {},
     "output_type": "execute_result"
    }
   ],
   "source": [
    "v = np.array ([a, a**2, a**3, a**(.5) ])\n",
    "np.floor(v) # Floor = piso, da la parte entera inferior"
   ]
  },
  {
   "cell_type": "code",
   "execution_count": 43,
   "metadata": {},
   "outputs": [
    {
     "data": {
      "text/plain": [
       "array([1.19, 1.41, 2.  , 2.83])"
      ]
     },
     "execution_count": 43,
     "metadata": {},
     "output_type": "execute_result"
    }
   ],
   "source": [
    "#np.max(v)  # Valor máximo\n",
    "#np.min(v)  # Valor mínimo\n",
    "#np.sum(v)  # Suma todos los valores\n",
    "#np.mean(v) # Promedio\n",
    "np.sort(v)  # Ordena el array de menor a mayor"
   ]
  },
  {
   "cell_type": "code",
   "execution_count": null,
   "metadata": {},
   "outputs": [],
   "source": []
  }
 ],
 "metadata": {
  "kernelspec": {
   "display_name": "Python 3",
   "language": "python",
   "name": "python3"
  },
  "language_info": {
   "codemirror_mode": {
    "name": "ipython",
    "version": 3
   },
   "file_extension": ".py",
   "mimetype": "text/x-python",
   "name": "python",
   "nbconvert_exporter": "python",
   "pygments_lexer": "ipython3",
   "version": "3.12.3"
  }
 },
 "nbformat": 4,
 "nbformat_minor": 2
}
